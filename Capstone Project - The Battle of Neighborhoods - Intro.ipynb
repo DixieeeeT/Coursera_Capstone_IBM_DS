{
 "cells": [
  {
   "cell_type": "markdown",
   "metadata": {},
   "source": [
    "# Capstone Project - The Battle of Neighborhoods"
   ]
  },
  {
   "cell_type": "markdown",
   "metadata": {},
   "source": [
    "## Introduction"
   ]
  },
  {
   "cell_type": "markdown",
   "metadata": {},
   "source": [
    "City will be analysed in this project : _New York_."
   ]
  },
  {
   "cell_type": "markdown",
   "metadata": {},
   "source": [
    "Different kinds of venues located within this 302.6 mi² area, in order to fulfill all kinds of requirements. Based on this fact, I'd like to conduct area classification and segmentation of this big city, combining with my own experience, to explore new, uncovered secrets await under the map."
   ]
  },
  {
   "cell_type": "markdown",
   "metadata": {},
   "source": [
    "During my data collection pharse, I have tried several other cities as my target. However, their postal info are mostly unclean and cannot be found easily on the Internet (external source). Moreover, different countries use different postal code systems, which furthur prevents me from getting desirable data. In that case, after spending some time to deal with raw info, I come back to this tidy dataset of \"New York\" and decide to conduct my project based on it.  "
   ]
  },
  {
   "cell_type": "markdown",
   "metadata": {},
   "source": [
    "## Business Probelm"
   ]
  },
  {
   "cell_type": "markdown",
   "metadata": {},
   "source": [
    "Since my main goal is to explore some uncovered secrets, there are two potential business probelms shown as below:  \n",
    "1. Assume I'm a business owner, what is the best place for me to open my own business? (including restaurant, cafe etc.)  \n",
    "2. Assume I'm a XXX critic (including  restaurant, cafe etc.), which area should I visit most in order to work out my post?  \n",
    "\n",
    "In order to get a more precise project result, I choose to narrow down my target list to \"Asian restaurant\". In that case, I will attempt to answer the questions “Where should I open an Asian Restaurant?” and “Where should I stay If I want some great Asian food?”  "
   ]
  },
  {
   "cell_type": "markdown",
   "metadata": {},
   "source": [
    "## Data / Relevant Materials"
   ]
  },
  {
   "cell_type": "markdown",
   "metadata": {},
   "source": [
    "Data of New York City with neighborhoods, boroughs and etc. are used.\n",
    "\n",
    "New York City data (the one which we used in our lab): https://cocl.us/new_york_dataset (can be get directly online)\n",
    "\n",
    "New York City data containing neighborhood boundaries: https://data.cityofnewyork.us/City-Government/Borough-Boundaries/tqmj-j8zm (need to download to local)\n",
    "\n",
    "First, we will combine all the relevant information and work out clean dataframes. After that, analysis will be conducted. Finally, visualized graphs will be generated.\n",
    "\n",
    "Other APIs & Packages within Python will be used. You can find them in my code."
   ]
  },
  {
   "cell_type": "markdown",
   "metadata": {},
   "source": [
    "## Phase One Ends"
   ]
  },
  {
   "cell_type": "markdown",
   "metadata": {},
   "source": [
    "---"
   ]
  }
 ],
 "metadata": {
  "kernelspec": {
   "display_name": "Python 3",
   "language": "python",
   "name": "python3"
  },
  "language_info": {
   "codemirror_mode": {
    "name": "ipython",
    "version": 3
   },
   "file_extension": ".py",
   "mimetype": "text/x-python",
   "name": "python",
   "nbconvert_exporter": "python",
   "pygments_lexer": "ipython3",
   "version": "3.6.5"
  }
 },
 "nbformat": 4,
 "nbformat_minor": 2
}
