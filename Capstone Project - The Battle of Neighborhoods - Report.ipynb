{
 "cells": [
  {
   "cell_type": "markdown",
   "metadata": {},
   "source": [
    "# Capstone Project - The Battle of Neighborhoods - New York Asian Restaurant"
   ]
  },
  {
   "cell_type": "markdown",
   "metadata": {},
   "source": [
    "## 1. Introduction"
   ]
  },
  {
   "cell_type": "markdown",
   "metadata": {},
   "source": [
    "City will be analysed in this project : _New York_."
   ]
  },
  {
   "cell_type": "markdown",
   "metadata": {},
   "source": [
    "Different kinds of venues located within this 302.6 mi² area, in order to fulfill all kinds of requirements. Based on this fact, I'd like to conduct area classification and segmentation of this big city, combining with my own experience, to explore new, uncovered secrets await under the map."
   ]
  },
  {
   "cell_type": "markdown",
   "metadata": {},
   "source": [
    "During my data collection pharse, I have tried several other cities as my target. However, their postal info are mostly unclean and cannot be found easily on the Internet (external source). Moreover, different countries use different postal code systems, which furthur prevents me from getting desirable data. In that case, after spending some time to deal with raw info, I come back to this tidy dataset of \"New York\" and decide to conduct my project based on it.  "
   ]
  },
  {
   "cell_type": "markdown",
   "metadata": {},
   "source": [
    "**_Data collection is always the most important phase since all your hypothesis & exploration will based on these info you collect._**"
   ]
  },
  {
   "cell_type": "markdown",
   "metadata": {},
   "source": [
    "## 2. Business Probelm"
   ]
  },
  {
   "cell_type": "markdown",
   "metadata": {},
   "source": [
    "### 2.1 Initial Ideas"
   ]
  },
  {
   "cell_type": "markdown",
   "metadata": {},
   "source": [
    "Since my main goal is to explore some uncovered secrets, there are two potential business probelms shown as below:  \n",
    "1. Assume I'm a business owner, what is the best place for me to open my own business? (including restaurant, cafe etc.)  \n",
    "2. Assume I'm a XXX critic (including  restaurant, cafe etc.), which area should I visit most in order to work out my post?  \n",
    "\n",
    "In order to get a more precise project result, I choose to narrow down my target list to \"Asian restaurant\". In that case, I will attempt to answer the questions “Where should I open an Asian Restaurant?” and “Where should I stay If I want some great Asian food?” "
   ]
  },
  {
   "cell_type": "markdown",
   "metadata": {},
   "source": [
    "### 2.2 More thoughts during the process"
   ]
  },
  {
   "cell_type": "markdown",
   "metadata": {},
   "source": [
    "During the data exploring phase, I find out another dataset which contains rolling sales data of New York's real estates. This inspires me to furthur conduct my project (after analyzing the data get from Foursquare API).\n",
    "\n",
    "Based on these rolling sales data, I'm aiming at provide some more general suggestions to potential business owners about the commercial real estates prices. I just do clustering & mapping here, but regression and other machine learning methodologies can be used if data source is more informative."
   ]
  },
  {
   "cell_type": "markdown",
   "metadata": {},
   "source": [
    "## 3. Data Acquisition & Cleaning"
   ]
  },
  {
   "cell_type": "markdown",
   "metadata": {},
   "source": [
    "### 3.1 Data Source"
   ]
  },
  {
   "cell_type": "markdown",
   "metadata": {},
   "source": [
    "Data of New York City with neighborhoods, boroughs and etc. are used.\n",
    "\n",
    "New York City data (the one which we used in our lab): https://cocl.us/new_york_dataset (can be get directly online)\n",
    "\n",
    "New York City data containing borough boundaries: https://data.cityofnewyork.us/City-Government/Borough-Boundaries/tqmj-j8zm (need to download to local)\n",
    "\n",
    "New York City data containing neighborhood boundaries: https://data.cityofnewyork.us/City-Government/Neighborhood-Tabulation-Areas-NTA-/cpf4-rkhq (need to download to local)\n",
    "\n",
    "New York Rolling Sales Data (2019): https://www1.nyc.gov/site/finance/taxes/property-rolling-sales-data.page (commercial real estate prices will be extracted)\n",
    "\n",
    "First, we will combine all the relevant information and work out clean dataframes. After that, analysis will be conducted. Finally, visualized graphs will be generated.\n",
    "\n",
    "Other APIs & Packages within Python will be used. You can find them in my code."
   ]
  },
  {
   "cell_type": "markdown",
   "metadata": {},
   "source": [
    "### 3.2 Data Cleaning"
   ]
  },
  {
   "cell_type": "markdown",
   "metadata": {},
   "source": [
    "Since some data of my project are the same for the course, they don't actually need too much cleaning. While my rolling sales dataset contains lots of NaN, invalid values, and different neighborhood distribution, which takes me tons of time to cleanse. You can find out my cleaning process within my code."
   ]
  },
  {
   "cell_type": "markdown",
   "metadata": {},
   "source": [
    "## 4. Results / Conclusion"
   ]
  },
  {
   "cell_type": "markdown",
   "metadata": {},
   "source": [
    "### 4.1 Simple Suggestions Based on Foursquare API"
   ]
  },
  {
   "cell_type": "markdown",
   "metadata": {},
   "source": [
    "<img src=\"simple_map.png\">"
   ]
  },
  {
   "cell_type": "markdown",
   "metadata": {},
   "source": [
    "If you take a look at the simple map above, you will find it's pretty strange that there are just **15** neighborhood within New York City show that they have some asian restaurants. This situation is not what I have expected, and it finally leads to an average or even poor analysis. "
   ]
  },
  {
   "cell_type": "markdown",
   "metadata": {},
   "source": [
    "<img src=\"num_res.png\">"
   ]
  },
  {
   "cell_type": "markdown",
   "metadata": {},
   "source": [
    "Even worse, like what has shown abover, if we consider the numbers of asian restaurants within these five boroughs, we can see there are only two restaurant show up in \"Bronx\", while \"Manhattan\" has 12. However, if you search \"asian restaurant\" in Yelp or other kinds of map app like Google Map, then you will see the numbers of asian restaurants are way more than 36 in New York. In that case, seems like Foursquare API need to furthur expand & update its database in order to provide better user experience and fulfill all kinds of user requirements."
   ]
  },
  {
   "cell_type": "markdown",
   "metadata": {},
   "source": [
    "<img src=\"ratings.png\">"
   ]
  },
  {
   "cell_type": "markdown",
   "metadata": {},
   "source": [
    "From the graphs above we can see that there isn't any borough has a \"Average Rating\" lower than 7.2, which is a good news to Asian food lovers, but it indicates a negative news to business owners who are seeking new opportunities.\n",
    "\n",
    "Within these six boroughs, \"Manhattan\" & \"Bronx\" have the highest and second highest \"Average Rating\" 8.2 & 7.6, respectively. In that case, these two boroughs should be \"must visit\" if people are looking for some fantastic asian food, while other boroughs also have some good asian restaurants but needs more careful searching & preparation in order to avoid lower rating venues."
   ]
  },
  {
   "cell_type": "markdown",
   "metadata": {},
   "source": [
    "<img src=\"shadow.png\">"
   ]
  },
  {
   "cell_type": "markdown",
   "metadata": {},
   "source": [
    "I also use shadow markers to generate a guide map which tells business owners where are the places they need to avoid -- those deep blue areas (the radius of each circle marker is 3km, which is commonly considered as the average radioactive radius for every restaurant). \n",
    "\n",
    "Agian, this map doesn't really help since I have to use the geo info of each neighborhood instead of the geo info of each restaurant, to locate the center of these circle markers, which results in lots of information loss."
   ]
  },
  {
   "cell_type": "markdown",
   "metadata": {},
   "source": [
    "As a staged conclusion, besides what I have mentioned above to food lovers & business owners, I'd like to recommend using other APIs such as Yelp API to conduct a more detailed report. That may indeed help people to find places they are looking for."
   ]
  },
  {
   "cell_type": "markdown",
   "metadata": {},
   "source": [
    "### 4.2 Furthur Study Based on Rolling Sales Data"
   ]
  },
  {
   "cell_type": "markdown",
   "metadata": {},
   "source": [
    "Besides using the data provided by Foursquare API, I try to build up some maps with New York real estates pricing data, which might generally help business owners to make their decisions more easier, no matter of what kind of business they want to pursue."
   ]
  },
  {
   "cell_type": "markdown",
   "metadata": {},
   "source": [
    "There are several parameters within rolling sales dataset, but I pick three as the most important: \"LAND SQUARE FEET\", \"GROSS SQUARE FEET\", \"YEAR BUILT\", and \"SALE PRICE\". In order to generating more useful analysis, I divide LSF and GSF by \"SALE PRICE\", respectively, to get two new variable \"dollars per LSF\" and \"dollars per GSF\".\n",
    "\n",
    "Let's first take a look at these two variables."
   ]
  },
  {
   "cell_type": "markdown",
   "metadata": {},
   "source": [
    "#### 4.2.1 Pricing & Square Feet"
   ]
  },
  {
   "cell_type": "markdown",
   "metadata": {},
   "source": [
    "<img src=\"$LSF.png\">"
   ]
  },
  {
   "cell_type": "markdown",
   "metadata": {},
   "source": [
    "<img src=\"$GSF.png\">"
   ]
  },
  {
   "cell_type": "markdown",
   "metadata": {},
   "source": [
    "As we can see from the graphs above, both \"dollars per LSF\" & \"dollars per GSF\" data are right skewed and locate in different range. In order to normalize all the dataset, I hereby use log to finish normalization process.(results of square root method are still right skewed, so it is abandoned)."
   ]
  },
  {
   "cell_type": "markdown",
   "metadata": {},
   "source": [
    "<img src=\"$LSF_log.png\">"
   ]
  },
  {
   "cell_type": "markdown",
   "metadata": {},
   "source": [
    "<img src=\"$GSF_log.png\">"
   ]
  },
  {
   "cell_type": "markdown",
   "metadata": {},
   "source": [
    "Seems like Manhattan has highest average \"dollars per LSF\" & \"dollars per GSF\", let's use another way to show the results above."
   ]
  },
  {
   "cell_type": "markdown",
   "metadata": {},
   "source": [
    "<img src=\"hex_manhattan.png\">"
   ]
  },
  {
   "cell_type": "markdown",
   "metadata": {},
   "source": [
    "<img src=\"hex_bronx.png\">"
   ]
  },
  {
   "cell_type": "markdown",
   "metadata": {},
   "source": [
    "<img src=\"hex_brooklyn.png\">"
   ]
  },
  {
   "cell_type": "markdown",
   "metadata": {},
   "source": [
    "<img src=\"hex_queens.png\">"
   ]
  },
  {
   "cell_type": "markdown",
   "metadata": {},
   "source": [
    "<img src=\"hex_statenisland.png\">"
   ]
  },
  {
   "cell_type": "markdown",
   "metadata": {},
   "source": [
    "While some boroughs has smaller amount of records, it's still obvious that manhattan has high average \"dollars per LSF\" & \"dollars per GSF\"."
   ]
  },
  {
   "cell_type": "markdown",
   "metadata": {},
   "source": [
    "#### 4.2.2 Building Age"
   ]
  },
  {
   "cell_type": "markdown",
   "metadata": {},
   "source": [
    "Instead of using \"YEAR BUILT\" directly, I calculate the actual age for each building I have."
   ]
  },
  {
   "cell_type": "markdown",
   "metadata": {},
   "source": [
    "<img src=\"age.png\">"
   ]
  },
  {
   "cell_type": "markdown",
   "metadata": {},
   "source": [
    "Agian, I use log to normalize this part of data."
   ]
  },
  {
   "cell_type": "markdown",
   "metadata": {},
   "source": [
    "<img src=\"age_log.png\">"
   ]
  },
  {
   "cell_type": "markdown",
   "metadata": {},
   "source": [
    "#### 4.2.3 Mapping"
   ]
  },
  {
   "cell_type": "markdown",
   "metadata": {},
   "source": [
    "After finishing massive cleaning process & generating map, I get the below graphs:"
   ]
  },
  {
   "cell_type": "markdown",
   "metadata": {},
   "source": [
    "<img src=\"lsf_map.png\">"
   ]
  },
  {
   "cell_type": "markdown",
   "metadata": {},
   "source": [
    "<img src=\"gsf_map.png\">"
   ]
  },
  {
   "cell_type": "markdown",
   "metadata": {},
   "source": [
    "<img src=\"age_map.png\">"
   ]
  },
  {
   "cell_type": "markdown",
   "metadata": {},
   "source": [
    "Due to the differences between my rolling sales data source and geojson I download from officially goverment website, there are some missing areas on these maps. However, we can still tell some patterns & features based on them\n",
    "\n",
    "- Avoid deep color area might be your initial ideas, but this is not always the case. Deep color area means higher \"dollars per LSF\", higher \"dollars per GSF\", and older \"building age\". However, if you filter the best place for your business in this way, then you might put your restaurant in Statenisland, which makes no sense since a restaurant there will have very low potential customer numbers. This is not what we want to see.  \n",
    "\n",
    "- There are still some \"good locations\" in Queens & Brooklyn & Bronx if we put these 3 graphs with \"average ratings\" map together and check very carefully(those areas with lower prices, younger average building age, medium average rating). However, since the \"average ratings\" map is not a unbiased one and we lack other kinds of data (like security situation, customer average spendings etc.), this kind of conclusion might be misleading to some degree. Detailed preparation is needed but these areas worth watching.  \n",
    "\n",
    "- Manhattan is expensive, full of sense of history, but it definitely contains the largest potential customer group. To those business owner who are rich enough, Manhattan is always their first & best choice.  \n",
    "\n",
    "Overall, New York City is place full of \"treasure\", everyone can find their benefits in here."
   ]
  },
  {
   "cell_type": "markdown",
   "metadata": {},
   "source": [
    "## 5. Future Plans"
   ]
  },
  {
   "cell_type": "markdown",
   "metadata": {},
   "source": [
    "After finishing this project, I have some future plans about it\n",
    "\n",
    "- Continue exploring & collecting relevant informative data \n",
    "- Trying to conduct Regression, Decision Tree and other Machine Learning methods\n",
    "- Refining & maintaining this project"
   ]
  },
  {
   "cell_type": "markdown",
   "metadata": {},
   "source": [
    "_That's all for now, thanks for reading!_"
   ]
  },
  {
   "cell_type": "markdown",
   "metadata": {},
   "source": [
    "---"
   ]
  }
 ],
 "metadata": {
  "kernelspec": {
   "display_name": "Python 3",
   "language": "python",
   "name": "python3"
  },
  "language_info": {
   "codemirror_mode": {
    "name": "ipython",
    "version": 3
   },
   "file_extension": ".py",
   "mimetype": "text/x-python",
   "name": "python",
   "nbconvert_exporter": "python",
   "pygments_lexer": "ipython3",
   "version": "3.6.5"
  }
 },
 "nbformat": 4,
 "nbformat_minor": 2
}
